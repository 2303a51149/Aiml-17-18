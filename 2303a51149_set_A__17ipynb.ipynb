{
  "nbformat": 4,
  "nbformat_minor": 0,
  "metadata": {
    "colab": {
      "provenance": [],
      "authorship_tag": "ABX9TyOEBwtabtKqgpAafSR9ibxF",
      "include_colab_link": true
    },
    "kernelspec": {
      "name": "python3",
      "display_name": "Python 3"
    },
    "language_info": {
      "name": "python"
    }
  },
  "cells": [
    {
      "cell_type": "markdown",
      "metadata": {
        "id": "view-in-github",
        "colab_type": "text"
      },
      "source": [
        "<a href=\"https://colab.research.google.com/github/2303a51149/Aiml-17-18/blob/main/2303a51149_set_A__17ipynb.ipynb\" target=\"_parent\"><img src=\"https://colab.research.google.com/assets/colab-badge.svg\" alt=\"Open In Colab\"/></a>"
      ]
    },
    {
      "cell_type": "code",
      "execution_count": 2,
      "metadata": {
        "colab": {
          "base_uri": "https://localhost:8080/"
        },
        "id": "slIdBOndUwqA",
        "outputId": "cf320e0d-1e41-4e06-fdc8-1213d6d185f3"
      },
      "outputs": [
        {
          "output_type": "stream",
          "name": "stdout",
          "text": [
            "Top 5 Reasons for Absenteeism: {23: 149, 28: 112, 27: 69, 13: 55, 0: 43}\n",
            "Day with Most Absenteeism: 2\n",
            "Max Age: 58\n",
            "Min Age: 27\n",
            "Season with Most Absenteeism: 4\n",
            "Highest Educational Qualification: 1\n"
          ]
        },
        {
          "output_type": "stream",
          "name": "stderr",
          "text": [
            "<ipython-input-2-dd5e424d3a9e>:45: SettingWithCopyWarning: \n",
            "A value is trying to be set on a copy of a slice from a DataFrame.\n",
            "Try using .loc[row_indexer,col_indexer] = value instead\n",
            "\n",
            "See the caveats in the documentation: https://pandas.pydata.org/pandas-docs/stable/user_guide/indexing.html#returning-a-view-versus-a-copy\n",
            "  features['Reason for absence'] = encoder.fit_transform(features['Reason for absence'])\n"
          ]
        },
        {
          "output_type": "stream",
          "name": "stdout",
          "text": [
            "\n",
            "Classification Report:\n",
            "               precision    recall  f1-score   support\n",
            "\n",
            "           0       0.89      0.84      0.86        93\n",
            "           1       0.75      0.82      0.78        55\n",
            "\n",
            "    accuracy                           0.83       148\n",
            "   macro avg       0.82      0.83      0.82       148\n",
            "weighted avg       0.84      0.83      0.83       148\n",
            "\n"
          ]
        }
      ],
      "source": [
        "import pandas as pd\n",
        "from sklearn.model_selection import train_test_split\n",
        "from sklearn.ensemble import RandomForestClassifier\n",
        "from sklearn.preprocessing import LabelEncoder\n",
        "from sklearn.metrics import classification_report\n",
        "\n",
        "# Load the dataset\n",
        "file_path = '/content/Absenteeism_at_work.csv'  # Update with your file path if needed\n",
        "df = pd.read_csv(file_path, delimiter=';')\n",
        "\n",
        "# Step 1: Identify the top 5 reasons for absenteeism\n",
        "top_reasons = df['Reason for absence'].value_counts().head(5)\n",
        "\n",
        "# Step 2: Identify the day of the week with the most absenteeism\n",
        "most_absenteeism_day = df['Day of the week'].value_counts().idxmax()\n",
        "\n",
        "# Step 3: Find the maximum and minimum age of employees\n",
        "max_age = df['Age'].max()\n",
        "min_age = df['Age'].min()\n",
        "\n",
        "# Step 4: Identify the seasons when absenteeism was most frequent\n",
        "most_absenteeism_season = df['Seasons'].value_counts().idxmax()\n",
        "\n",
        "# Step 5: Identify the highest educational qualification of employees\n",
        "highest_education = df['Education'].value_counts().idxmax()\n",
        "\n",
        "# Display results\n",
        "print(\"Top 5 Reasons for Absenteeism:\", top_reasons.to_dict())\n",
        "print(\"Day with Most Absenteeism:\", most_absenteeism_day)\n",
        "print(\"Max Age:\", max_age)\n",
        "print(\"Min Age:\", min_age)\n",
        "print(\"Season with Most Absenteeism:\", most_absenteeism_season)\n",
        "print(\"Highest Educational Qualification:\", highest_education)\n",
        "\n",
        "# Step 6: Apply a Classification Model\n",
        "# Binarize absenteeism (e.g., absent more than 4 hours is significant)\n",
        "df['Absenteeism_Label'] = (df['Absenteeism time in hours'] > 4).astype(int)\n",
        "\n",
        "# Features and target\n",
        "features = df[['Reason for absence', 'Day of the week', 'Seasons', 'Age', 'Education']]\n",
        "target = df['Absenteeism_Label']\n",
        "\n",
        "# Encode categorical features\n",
        "encoder = LabelEncoder()\n",
        "features['Reason for absence'] = encoder.fit_transform(features['Reason for absence'])\n",
        "\n",
        "# Split data into training and testing sets\n",
        "X_train, X_test, y_train, y_test = train_test_split(features, target, test_size=0.2, random_state=42)\n",
        "\n",
        "# Apply a Random Forest Classifier\n",
        "model = RandomForestClassifier(random_state=42)\n",
        "model.fit(X_train, y_train)\n",
        "\n",
        "# Predictions and evaluation\n",
        "y_pred = model.predict(X_test)\n",
        "classification_report_result = classification_report(y_test, y_pred)\n",
        "\n",
        "print(\"\\nClassification Report:\\n\", classification_report_result)"
      ]
    }
  ]
}